{
 "cells": [
  {
   "cell_type": "code",
   "execution_count": 1,
   "metadata": {},
   "outputs": [
    {
     "data": {
      "text/html": [
       "<div>\n",
       "<style scoped>\n",
       "    .dataframe tbody tr th:only-of-type {\n",
       "        vertical-align: middle;\n",
       "    }\n",
       "\n",
       "    .dataframe tbody tr th {\n",
       "        vertical-align: top;\n",
       "    }\n",
       "\n",
       "    .dataframe thead th {\n",
       "        text-align: right;\n",
       "    }\n",
       "</style>\n",
       "<table border=\"1\" class=\"dataframe\">\n",
       "  <thead>\n",
       "    <tr style=\"text-align: right;\">\n",
       "      <th></th>\n",
       "      <th>companyName</th>\n",
       "      <th>firstName</th>\n",
       "      <th>lastName</th>\n",
       "      <th>email</th>\n",
       "      <th>position</th>\n",
       "      <th>salary</th>\n",
       "    </tr>\n",
       "  </thead>\n",
       "  <tbody>\n",
       "    <tr>\n",
       "      <th>0</th>\n",
       "      <td>Oozz</td>\n",
       "      <td>Albert</td>\n",
       "      <td>Gray</td>\n",
       "      <td>albert.gray@oozz.com</td>\n",
       "      <td>Data Coordinator</td>\n",
       "      <td>89715</td>\n",
       "    </tr>\n",
       "    <tr>\n",
       "      <th>1</th>\n",
       "      <td>Oozz</td>\n",
       "      <td>Marie</td>\n",
       "      <td>Clark</td>\n",
       "      <td>marie.clark@oozz.com</td>\n",
       "      <td>Nurse</td>\n",
       "      <td>56082</td>\n",
       "    </tr>\n",
       "    <tr>\n",
       "      <th>2</th>\n",
       "      <td>Oozz</td>\n",
       "      <td>Michael</td>\n",
       "      <td>Spencer</td>\n",
       "      <td>michael.spencer@oozz.com</td>\n",
       "      <td>VP Product Management</td>\n",
       "      <td>144097</td>\n",
       "    </tr>\n",
       "    <tr>\n",
       "      <th>3</th>\n",
       "      <td>Oozz</td>\n",
       "      <td>Mary</td>\n",
       "      <td>Alvarez</td>\n",
       "      <td>mary.alvarez@oozz.com</td>\n",
       "      <td>VP Marketing</td>\n",
       "      <td>20635</td>\n",
       "    </tr>\n",
       "    <tr>\n",
       "      <th>4</th>\n",
       "      <td>Oozz</td>\n",
       "      <td>Earl</td>\n",
       "      <td>Russell</td>\n",
       "      <td>earl.russell@oozz.com</td>\n",
       "      <td>Compensation Analyst</td>\n",
       "      <td>141535</td>\n",
       "    </tr>\n",
       "  </tbody>\n",
       "</table>\n",
       "</div>"
      ],
      "text/plain": [
       "  companyName firstName lastName                     email  \\\n",
       "0        Oozz    Albert     Gray      albert.gray@oozz.com   \n",
       "1        Oozz     Marie    Clark      marie.clark@oozz.com   \n",
       "2        Oozz   Michael  Spencer  michael.spencer@oozz.com   \n",
       "3        Oozz      Mary  Alvarez     mary.alvarez@oozz.com   \n",
       "4        Oozz      Earl  Russell     earl.russell@oozz.com   \n",
       "\n",
       "                position  salary  \n",
       "0       Data Coordinator   89715  \n",
       "1                  Nurse   56082  \n",
       "2  VP Product Management  144097  \n",
       "3           VP Marketing   20635  \n",
       "4   Compensation Analyst  141535  "
      ]
     },
     "execution_count": 1,
     "metadata": {},
     "output_type": "execute_result"
    }
   ],
   "source": [
    "import pandas as pd \n",
    "\n",
    "df = pd.read_parquet('scripts/python_go_backups/employees_go.parquet',engine='fastparquet')\n",
    "\n",
    "\n",
    "df.head()"
   ]
  },
  {
   "cell_type": "code",
   "execution_count": 2,
   "metadata": {},
   "outputs": [
    {
     "data": {
      "text/plain": [
       "(6010343, 6)"
      ]
     },
     "execution_count": 2,
     "metadata": {},
     "output_type": "execute_result"
    }
   ],
   "source": [
    "df.shape"
   ]
  }
 ],
 "metadata": {
  "kernelspec": {
   "display_name": ".venv",
   "language": "python",
   "name": "python3"
  },
  "language_info": {
   "codemirror_mode": {
    "name": "ipython",
    "version": 3
   },
   "file_extension": ".py",
   "mimetype": "text/x-python",
   "name": "python",
   "nbconvert_exporter": "python",
   "pygments_lexer": "ipython3",
   "version": "3.10.12"
  }
 },
 "nbformat": 4,
 "nbformat_minor": 2
}
